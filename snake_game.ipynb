{
 "cells": [
  {
   "cell_type": "markdown",
   "metadata": {},
   "source": [
    "## SNAKE GAME USING OPENCV"
   ]
  },
  {
   "cell_type": "markdown",
   "metadata": {},
   "source": [
    "1. RAW CODE"
   ]
  },
  {
   "cell_type": "code",
   "execution_count": 1,
   "metadata": {},
   "outputs": [],
   "source": [
    "import numpy as np\n",
    "import matplotlib.pyplot as plt\n",
    "import cv2 as cv\n",
    "import random\n",
    "import time"
   ]
  },
  {
   "cell_type": "code",
   "execution_count": 6,
   "metadata": {},
   "outputs": [],
   "source": [
    "img=np.zeros((500,500,3),dtype='uint8')  #making canvas to check the snake and apple postion"
   ]
  },
  {
   "cell_type": "code",
   "execution_count": 7,
   "metadata": {},
   "outputs": [],
   "source": [
    "snake_pos=[[250,250],[240,250],[230,250]]\n",
    "for pos in snake_pos:\n",
    "    cv.rectangle(img,(pos[0],pos[1]),(pos[0]+10,pos[1]+10),(0,255,0),-1)       #loop to create a snake"
   ]
  },
  {
   "cell_type": "code",
   "execution_count": 8,
   "metadata": {},
   "outputs": [
    {
     "data": {
      "text/plain": [
       "[[250, 250], [240, 250], [230, 250]]"
      ]
     },
     "execution_count": 8,
     "metadata": {},
     "output_type": "execute_result"
    }
   ],
   "source": [
    "snake_pos"
   ]
  },
  {
   "cell_type": "code",
   "execution_count": 9,
   "metadata": {},
   "outputs": [
    {
     "data": {
      "text/plain": [
       "250"
      ]
     },
     "execution_count": 9,
     "metadata": {},
     "output_type": "execute_result"
    }
   ],
   "source": [
    "snake_pos[0][0]"
   ]
  },
  {
   "cell_type": "code",
   "execution_count": 10,
   "metadata": {},
   "outputs": [
    {
     "data": {
      "text/plain": [
       "<matplotlib.image.AxesImage at 0x272e90ee828>"
      ]
     },
     "execution_count": 10,
     "metadata": {},
     "output_type": "execute_result"
    },
    {
     "data": {
      "image/png": "[encoded data removed]",
      "text/plain": [
       "<Figure size 432x288 with 1 Axes>"
      ]
     },
     "metadata": {
      "needs_background": "light"
     },
     "output_type": "display_data"
    }
   ],
   "source": [
    "plt.imshow(img)"
   ]
  },
  {
   "cell_type": "code",
   "execution_count": 13,
   "metadata": {},
   "outputs": [
    {
     "data": {
      "text/plain": [
       "array([[[0, 0, 0],\n",
       "        [0, 0, 0],\n",
       "        [0, 0, 0],\n",
       "        ...,\n",
       "        [0, 0, 0],\n",
       "        [0, 0, 0],\n",
       "        [0, 0, 0]],\n",
       "\n",
       "       [[0, 0, 0],\n",
       "        [0, 0, 0],\n",
       "        [0, 0, 0],\n",
       "        ...,\n",
       "        [0, 0, 0],\n",
       "        [0, 0, 0],\n",
       "        [0, 0, 0]],\n",
       "\n",
       "       [[0, 0, 0],\n",
       "        [0, 0, 0],\n",
       "        [0, 0, 0],\n",
       "        ...,\n",
       "        [0, 0, 0],\n",
       "        [0, 0, 0],\n",
       "        [0, 0, 0]],\n",
       "\n",
       "       ...,\n",
       "\n",
       "       [[0, 0, 0],\n",
       "        [0, 0, 0],\n",
       "        [0, 0, 0],\n",
       "        ...,\n",
       "        [0, 0, 0],\n",
       "        [0, 0, 0],\n",
       "        [0, 0, 0]],\n",
       "\n",
       "       [[0, 0, 0],\n",
       "        [0, 0, 0],\n",
       "        [0, 0, 0],\n",
       "        ...,\n",
       "        [0, 0, 0],\n",
       "        [0, 0, 0],\n",
       "        [0, 0, 0]],\n",
       "\n",
       "       [[0, 0, 0],\n",
       "        [0, 0, 0],\n",
       "        [0, 0, 0],\n",
       "        ...,\n",
       "        [0, 0, 0],\n",
       "        [0, 0, 0],\n",
       "        [0, 0, 0]]], dtype=uint8)"
      ]
     },
     "execution_count": 13,
     "metadata": {},
     "output_type": "execute_result"
    }
   ],
   "source": [
    "#creating random positions to apple \n",
    "apple_pos=[random.randrange(1,50)*10,random.randrange(1,50)*10] \n",
    "\n",
    "#creating apple\n",
    "cv.rectangle(img,(apple_pos[0],apple_pos[1]),(apple_pos[0]+10,apple_pos[1]+10),(255,0,255),-1)"
   ]
  },
  {
   "cell_type": "code",
   "execution_count": 12,
   "metadata": {},
   "outputs": [
    {
     "data": {
      "text/plain": [
       "<matplotlib.image.AxesImage at 0x272e917f390>"
      ]
     },
     "execution_count": 12,
     "metadata": {},
     "output_type": "execute_result"
    },
    {
     "data": {
      "image/png": "[encoded data removed]",
      "text/plain": [
       "<Figure size 432x288 with 1 Axes>"
      ]
     },
     "metadata": {
      "needs_background": "light"
     },
     "output_type": "display_data"
    }
   ],
   "source": [
    "plt.imshow(img)"
   ]
  },
  {
   "cell_type": "code",
   "execution_count": null,
   "metadata": {},
   "outputs": [],
   "source": []
  },
  {
   "cell_type": "code",
   "execution_count": null,
   "metadata": {},
   "outputs": [],
   "source": []
  },
  {
   "cell_type": "markdown",
   "metadata": {},
   "source": [
    "2. MAIN CODE"
   ]
  },
  {
   "cell_type": "code",
   "execution_count": 2,
   "metadata": {},
   "outputs": [],
   "source": [
    "import numpy as np\n",
    "import matplotlib.pyplot as plt\n",
    "import cv2 as cv\n",
    "import random\n",
    "import time"
   ]
  },
  {
   "cell_type": "code",
   "execution_count": 3,
   "metadata": {},
   "outputs": [],
   "source": [
    "#function for boundary collision of snake\n",
    "def boundary_collision(snake_h):    \n",
    "    if snake_h[0]>=500 or snake_h[0]<0 or snake_h[1]>=500 or snake_h[1]<0:\n",
    "        return 1\n",
    "    else:\n",
    "        return 0\n",
    "    \n",
    "#function for self collision of snake\n",
    "def self_collision(snake_pos):\n",
    "    snake_h=snake_pos[0]\n",
    "    if snake_h in snake_pos[1:]:\n",
    "        return 1\n",
    "    else:\n",
    "        return 0\n",
    "\n",
    "#function for collision of snake with apple\n",
    "def apple_collision(apple_pos,score):\n",
    "    apple_pos=[random.randrange(1,50)*10,random.randrange(1,50)*10]\n",
    "    score+=1\n",
    "        \n",
    "    return apple_pos,score"
   ]
  },
  {
   "cell_type": "code",
   "execution_count": 5,
   "metadata": {},
   "outputs": [],
   "source": [
    "#main program\n",
    "img=np.zeros((500,500,3),dtype='uint8')\n",
    "snake_pos=[[250,250],[240,250],[230,250]]\n",
    "apple_pos=[random.randrange(1,50)*10,random.randrange(1,50)*10]\n",
    "\n",
    "score=0\n",
    "prev_button_direction=1\n",
    "button_direction=1\n",
    "snake_h=[250,250]\n",
    "\n",
    "\n",
    "#while loop to implement all the funtions and the game algorithm\n",
    "while True:\n",
    "    cv.imshow(\"test\",img)\n",
    "    cv.waitKey(1) \n",
    "    \n",
    "    img=np.zeros((500,500,3),dtype='uint8')\n",
    "    #apple random position\n",
    "    cv.rectangle(img,(apple_pos[0],apple_pos[1]),(apple_pos[0]+10,apple_pos[1]+10),(255,0,255),-1)\n",
    "    \n",
    "    #position of snake\n",
    "    for pos in snake_pos:\n",
    "        cv.rectangle(img,(pos[0],pos[1]),(pos[0]+10,pos[1]+10),(0,255,0),-1)\n",
    "    \n",
    "    #using time to execute whole program until esc is pressed\n",
    "    t_end = time.time() + 0.2\n",
    "    k = -1\n",
    "    while time.time() < t_end:\n",
    "        if k == -1:\n",
    "            k = cv.waitKey(125)\n",
    "        else:\n",
    "            continue\n",
    "\n",
    "    #left direction\n",
    "    if k == ord('a') and prev_button_direction != 1:\n",
    "        button_direction = 0\n",
    "    \n",
    "    #right direction\n",
    "    if k==ord(\"d\") and prev_button_direction != 0:\n",
    "        button_direction = 1\n",
    "        \n",
    "    #up direction\n",
    "    if k==ord(\"w\") and prev_button_direction != 2:\n",
    "        button_direction = 3\n",
    "        \n",
    "    ##down direction\n",
    "    if k==ord(\"s\") and prev_button_direction != 3:\n",
    "        button_direction = 2\n",
    "    \n",
    "    #quit\n",
    "    elif k == ord('q'):\n",
    "        break\n",
    "    else:\n",
    "        button_direction = button_direction\n",
    "    \n",
    "    #keep the direction of snake same as last pressed key button\n",
    "    prev_button_direction = button_direction\n",
    "    \n",
    "    #move right\n",
    "    if button_direction == 1:\n",
    "        snake_h[0] += 10\n",
    "    #move left\n",
    "    elif button_direction == 0:\n",
    "        snake_h[0] -= 10\n",
    "    #move up\n",
    "    elif button_direction == 2:\n",
    "        snake_h[1] += 10\n",
    "    #move down\n",
    "    elif button_direction == 3:\n",
    "        snake_h[1] -= 10\n",
    "    \n",
    "    #calling apple_collision() \n",
    "    if snake_h == apple_pos:\n",
    "        apple_pos,score = apple_collision(apple_pos,score)\n",
    "        snake_pos.insert(0,list(snake_h))\n",
    "        \n",
    "    else:\n",
    "        snake_pos.insert(0,list(snake_h))\n",
    "        snake_pos.pop()\n",
    "    \n",
    "    #checking boundary_collision() and self_self_collision() \n",
    "    if boundary_collision(snake_h) == 1 or self_collision(snake_pos) == 1:\n",
    "        font = cv.FONT_HERSHEY_TRIPLEX\n",
    "        img = np.zeros((500,500,3),dtype='uint8')\n",
    "        #displays result according to number of successful eating of apple by snake\n",
    "        cv.putText(img,'Your Score is {}'.format(score),(140,250), font, 1,(255,255,255),2,cv.LINE_AA)\n",
    "        cv.imshow('test',img)\n",
    "        cv.waitKey(0)\n",
    "        \n",
    "        break\n",
    "        \n",
    "cv.destroyAllWindows()"
   ]
  },
  {
   "cell_type": "code",
   "execution_count": null,
   "metadata": {},
   "outputs": [],
   "source": []
  },
  {
   "cell_type": "code",
   "execution_count": null,
   "metadata": {},
   "outputs": [],
   "source": []
  },
  {
   "cell_type": "code",
   "execution_count": null,
   "metadata": {},
   "outputs": [],
   "source": []
  }
 ],
 "metadata": {
  "kernelspec": {
   "display_name": "Python 3",
   "language": "python",
   "name": "python3"
  },
  "language_info": {
   "codemirror_mode": {
    "name": "ipython",
    "version": 3
   },
   "file_extension": ".py",
   "mimetype": "text/x-python",
   "name": "python",
   "nbconvert_exporter": "python",
   "pygments_lexer": "ipython3",
   "version": "3.7.3"
  }
 },
 "nbformat": 4,
 "nbformat_minor": 2
}
